{
  "nbformat": 4,
  "nbformat_minor": 0,
  "metadata": {
    "colab": {
      "name": "LoanPrediction.ipynb",
      "version": "0.3.2",
      "provenance": []
    },
    "kernelspec": {
      "name": "python3",
      "display_name": "Python 3"
    }
  },
  "cells": [
    {
      "cell_type": "code",
      "metadata": {
        "id": "Ja_aDph4CbQq",
        "colab_type": "code",
        "colab": {}
      },
      "source": [
        "# Loan Prediction"
      ],
      "execution_count": 0,
      "outputs": []
    },
    {
      "cell_type": "code",
      "metadata": {
        "id": "yCuI6s8DCkq2",
        "colab_type": "code",
        "colab": {}
      },
      "source": [
        "import pandas as pd\n",
        "import numpy as np\n",
        "import matplotlib.pyplot as plt"
      ],
      "execution_count": 0,
      "outputs": []
    },
    {
      "cell_type": "code",
      "metadata": {
        "id": "ROY8iIj0DOyn",
        "colab_type": "code",
        "colab": {}
      },
      "source": [
        "train = pd.read_csv(\"https://raw.githubusercontent.com/theodesp/Loan-Prediction-Dataset-example/master/train.csv\")\n",
        "test = pd.read_csv(\"https://raw.githubusercontent.com/theodesp/Loan-Prediction-Dataset-example/master/test.csv\")"
      ],
      "execution_count": 0,
      "outputs": []
    }
  ]
}